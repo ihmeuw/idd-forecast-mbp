{
 "cells": [
  {
   "cell_type": "markdown",
   "id": "53fa159f",
   "metadata": {},
   "source": [
    "## Raking "
   ]
  },
  {
   "cell_type": "markdown",
   "id": "33f07fac",
   "metadata": {},
   "source": [
    "### Get GBD Values\n",
    "\n",
    "Malaria\n",
    " - pf_mort\n",
    " - pf_inc\n",
    " - pfpr? It isn't 2-10... and no guarantee if i got 2-10 it would match... Not sure I can rake malaria\n",
    "\n",
    "DENV\n",
    " - incidence\n",
    " - mortality\n",
    "\n",
    "Need\n",
    "- all-age for all location/years\n",
    "- age-specific for (?) global (?) SR/ years (for age distribution)..."
   ]
  },
  {
   "cell_type": "markdown",
   "id": "c85a8dc6",
   "metadata": {},
   "source": [
    "### Malaria"
   ]
  }
 ],
 "metadata": {
  "language_info": {
   "name": "python"
  }
 },
 "nbformat": 4,
 "nbformat_minor": 5
}
