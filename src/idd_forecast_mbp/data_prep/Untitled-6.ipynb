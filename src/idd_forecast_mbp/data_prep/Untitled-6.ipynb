{
 "cells": [
  {
   "cell_type": "code",
   "execution_count": null,
   "id": "a407a82b",
   "metadata": {},
   "outputs": [],
   "source": [
    "################################################################\n",
    "### AGE-SPECIFIC POPULATION DATA PREPARATION\n",
    "################################################################\n",
    "\n",
    "###----------------------------------------------------------###\n",
    "### 1. Setup and Initialization\n",
    "### Establishes the required libraries, constants, and mapping dictionaries.\n",
    "### Defines the file paths and data structures for population processing.\n",
    "###----------------------------------------------------------###\n",
    "import pandas as pd\n",
    "import numpy as np\n",
    "import itertools\n",
    "import os\n",
    "import sys\n",
    "import xarray as xr\n",
    "from idd_forecast_mbp import constants as rfc\n",
    "from idd_forecast_mbp.helper_functions import load_yaml_dictionary, parse_yaml_dictionary, read_parquet_with_integer_ids\n",
    "\n",
    "age_type_map = {\n",
    "    \"all_age\": {\n",
    "        \"name\": \"All Age\",\n",
    "        \"age_type\": \"aa\"\n",
    "    },\n",
    "    \"age_specific\": {\n",
    "        \"name\": \"Age-specific\",\n",
    "        \"age_type\": \"as\"\n",
    "    }\n",
    "}\n",
    "\n",
    "RAW_DATA_PATH = rfc.MODEL_ROOT / \"01-raw_data\"\n",
    "\n",
    "PROCESSED_DATA_PATH = rfc.MODEL_ROOT / \"02-processed_data\"\n",
    "MODELING_DATA_PATH = rfc.MODEL_ROOT / \"03-modeling_data\"\n",
    "\n",
    "FHS_DATA_PATH = f\"{PROCESSED_DATA_PATH}/age_specific_fhs\"\n",
    "hierarchy_df_path = f'{PROCESSED_DATA_PATH}/full_hierarchy_2023_lsae_1209.parquet'\n",
    "age_metadata_path = f\"{FHS_DATA_PATH}/age_metadata.parquet\"\n",
    "fhs_hierarchy_df_path = f\"{FHS_DATA_PATH}/fhs_hierarchy.parquet\"\n",
    "\n",
    "# lsae_population_path = \"/mnt/team/rapidresponse/pub/climate-aggregates/2025_03_20/results/lsae_1209/population.parquet\"\n",
    "lsae_population_path = \"/mnt/team/idd/pub/forecast-mbp/02-processed_data/GBD2023/lsae_1209/population.parquet\"\n",
    "\n",
    "###----------------------------------------------------------###\n",
    "### 2. Hierarchy Data Loading\n",
    "### Loads and filters geographic hierarchies for both LSAE and FHS systems.\n",
    "### These hierarchies define the spatial structure for population allocation.\n",
    "###----------------------------------------------------------###\n",
    "# Load hierarchy data\n",
    "hierarchy_df = read_parquet_with_integer_ids(hierarchy_df_path)\n",
    "# hierarchy_df = hierarchy_df[hierarchy_df[\"level\"] >= 3]\n",
    "#\n",
    "fhs_hierarchy_df = read_parquet_with_integer_ids(fhs_hierarchy_df_path)\n",
    "# fhs_hierarchy_df = fhs_hierarchy_df[fhs_hierarchy_df[\"level\"] >= 3]\n"
   ]
  },
  {
   "cell_type": "code",
   "execution_count": 45,
   "id": "060ddb1f",
   "metadata": {},
   "outputs": [],
   "source": [
    "GBD_DATA_PATH = f\"{RAW_DATA_PATH}/gbd\"\n",
    "###----------------------------------------------------------###\n",
    "### 2. Hierarchy Data Loading\n",
    "### Loads and filters geographic hierarchies for both LSAE and FHS systems.\n",
    "### These hierarchies define the spatial structure for population allocation.\n",
    "###----------------------------------------------------------###\n",
    "# Load hierarchy data\n",
    "hierarchy_df = read_parquet_with_integer_ids(hierarchy_df_path)\n",
    "# hierarchy_df = hierarchy_df[hierarchy_df[\"level\"] >= 3]\n",
    "#\n",
    "fhs_hierarchy_df = read_parquet_with_integer_ids(fhs_hierarchy_df_path)\n",
    "# fhs_hierarchy_df = fhs_hierarchy_df[fhs_hierarchy_df[\"level\"] >= 3]\n",
    "\n",
    "age_metadata_df = read_parquet_with_integer_ids(age_metadata_path)\n",
    "age_group_ids = age_metadata_df[\"age_group_id\"].unique().tolist()\n",
    "age_group_filter = ('age_group_id', 'in', age_group_ids)\n",
    "aa_age_group_filter = ('age_group_id', 'in', [22])  # All ages\n",
    "sex_ids = [1, 2]\n",
    "sex_filter = ('sex_id', 'in', sex_ids)\n",
    "all_sex_filter = ('sex_id', 'in', [3])  # All sex\n",
    "\n",
    "##################\n",
    "# Past FHS Population Data Loading\n",
    "##################\n",
    "past_fhs_population_path = f\"{GBD_DATA_PATH}/fhs_2023_population.parquet\"\n",
    "as_past_fhs_population_df = read_parquet_with_integer_ids(past_fhs_population_path,\n",
    "    filters=[[age_group_filter, sex_filter]])\n",
    "\n",
    "aa_past_fhs_population_df = read_parquet_with_integer_ids(past_fhs_population_path,\n",
    "    filters=[[aa_age_group_filter, all_sex_filter]])\n",
    "\n",
    "##################\n",
    "# Future FHS Population Data Loading\n",
    "##################\n",
    "future_fhs_population_path = \"/mnt/share/forecasting/data/33/future/population/20250319_updated_rerun_pop_shifted_etl_417/population.nc\"\n",
    "# Select only location_id 4756 and age_group_id 235\n",
    "as_future_fhs_population = xr.open_dataset(future_fhs_population_path).sel(\n",
    "    age_group_id=age_metadata_df[\"age_group_id\"].unique(),\n",
    "    sex_id=sex_ids\n",
    ").population.mean(dim='draw')\n",
    "as_future_fhs_population_df = as_future_fhs_population.to_dataframe().reset_index()\n",
    "# drop the scenario\n",
    "as_future_fhs_population_df = as_future_fhs_population_df.drop(columns=[\"scenario\"])\n",
    "\n",
    "aa_future_fhs_population = xr.open_dataset(future_fhs_population_path).sel(\n",
    "    age_group_id=22,\n",
    "    sex_id=3\n",
    ").population.mean(dim='draw')\n",
    "aa_future_fhs_population_df = aa_future_fhs_population.to_dataframe().reset_index()\n",
    "# drop the scenario\n",
    "aa_future_fhs_population_df = aa_future_fhs_population_df.drop(columns=[\"scenario\"])"
   ]
  },
  {
   "cell_type": "code",
   "execution_count": null,
   "id": "b2c0a4dd",
   "metadata": {},
   "outputs": [],
   "source": [
    "# Old location_id = 44858\n",
    "# New location_ids = 60908; 95069; 94364"
   ]
  },
  {
   "cell_type": "code",
   "execution_count": 51,
   "id": "71885531",
   "metadata": {},
   "outputs": [
    {
     "data": {
      "text/html": [
       "<div>\n",
       "<style scoped>\n",
       "    .dataframe tbody tr th:only-of-type {\n",
       "        vertical-align: middle;\n",
       "    }\n",
       "\n",
       "    .dataframe tbody tr th {\n",
       "        vertical-align: top;\n",
       "    }\n",
       "\n",
       "    .dataframe thead th {\n",
       "        text-align: right;\n",
       "    }\n",
       "</style>\n",
       "<table border=\"1\" class=\"dataframe\">\n",
       "  <thead>\n",
       "    <tr style=\"text-align: right;\">\n",
       "      <th></th>\n",
       "      <th>location_id</th>\n",
       "      <th>year_id</th>\n",
       "      <th>age_group_id</th>\n",
       "      <th>sex_id</th>\n",
       "      <th>population</th>\n",
       "    </tr>\n",
       "  </thead>\n",
       "  <tbody>\n",
       "    <tr>\n",
       "      <th>1894200</th>\n",
       "      <td>44858</td>\n",
       "      <td>2024</td>\n",
       "      <td>2</td>\n",
       "      <td>1</td>\n",
       "      <td>7.651976e+03</td>\n",
       "    </tr>\n",
       "    <tr>\n",
       "      <th>1894201</th>\n",
       "      <td>44858</td>\n",
       "      <td>2024</td>\n",
       "      <td>2</td>\n",
       "      <td>2</td>\n",
       "      <td>7.297700e+03</td>\n",
       "    </tr>\n",
       "    <tr>\n",
       "      <th>1894202</th>\n",
       "      <td>44858</td>\n",
       "      <td>2024</td>\n",
       "      <td>3</td>\n",
       "      <td>1</td>\n",
       "      <td>2.260897e+04</td>\n",
       "    </tr>\n",
       "    <tr>\n",
       "      <th>1894203</th>\n",
       "      <td>44858</td>\n",
       "      <td>2024</td>\n",
       "      <td>3</td>\n",
       "      <td>2</td>\n",
       "      <td>2.169374e+04</td>\n",
       "    </tr>\n",
       "    <tr>\n",
       "      <th>1894204</th>\n",
       "      <td>44858</td>\n",
       "      <td>2024</td>\n",
       "      <td>6</td>\n",
       "      <td>1</td>\n",
       "      <td>1.563090e+06</td>\n",
       "    </tr>\n",
       "    <tr>\n",
       "      <th>...</th>\n",
       "      <td>...</td>\n",
       "      <td>...</td>\n",
       "      <td>...</td>\n",
       "      <td>...</td>\n",
       "      <td>...</td>\n",
       "    </tr>\n",
       "    <tr>\n",
       "      <th>1898045</th>\n",
       "      <td>44858</td>\n",
       "      <td>2100</td>\n",
       "      <td>238</td>\n",
       "      <td>2</td>\n",
       "      <td>2.253635e+05</td>\n",
       "    </tr>\n",
       "    <tr>\n",
       "      <th>1898046</th>\n",
       "      <td>44858</td>\n",
       "      <td>2100</td>\n",
       "      <td>388</td>\n",
       "      <td>1</td>\n",
       "      <td>1.006453e+05</td>\n",
       "    </tr>\n",
       "    <tr>\n",
       "      <th>1898047</th>\n",
       "      <td>44858</td>\n",
       "      <td>2100</td>\n",
       "      <td>388</td>\n",
       "      <td>2</td>\n",
       "      <td>9.560715e+04</td>\n",
       "    </tr>\n",
       "    <tr>\n",
       "      <th>1898048</th>\n",
       "      <td>44858</td>\n",
       "      <td>2100</td>\n",
       "      <td>389</td>\n",
       "      <td>1</td>\n",
       "      <td>1.177949e+05</td>\n",
       "    </tr>\n",
       "    <tr>\n",
       "      <th>1898049</th>\n",
       "      <td>44858</td>\n",
       "      <td>2100</td>\n",
       "      <td>389</td>\n",
       "      <td>2</td>\n",
       "      <td>1.119209e+05</td>\n",
       "    </tr>\n",
       "  </tbody>\n",
       "</table>\n",
       "<p>3850 rows × 5 columns</p>\n",
       "</div>"
      ],
      "text/plain": [
       "         location_id  year_id  age_group_id  sex_id    population\n",
       "1894200        44858     2024             2       1  7.651976e+03\n",
       "1894201        44858     2024             2       2  7.297700e+03\n",
       "1894202        44858     2024             3       1  2.260897e+04\n",
       "1894203        44858     2024             3       2  2.169374e+04\n",
       "1894204        44858     2024             6       1  1.563090e+06\n",
       "...              ...      ...           ...     ...           ...\n",
       "1898045        44858     2100           238       2  2.253635e+05\n",
       "1898046        44858     2100           388       1  1.006453e+05\n",
       "1898047        44858     2100           388       2  9.560715e+04\n",
       "1898048        44858     2100           389       1  1.177949e+05\n",
       "1898049        44858     2100           389       2  1.119209e+05\n",
       "\n",
       "[3850 rows x 5 columns]"
      ]
     },
     "execution_count": 51,
     "metadata": {},
     "output_type": "execute_result"
    }
   ],
   "source": [
    "df_1 = as_future_fhs_population_df[as_future_fhs_population_df[\"location_id\"] == 44858].copy()\n",
    "df_1"
   ]
  },
  {
   "cell_type": "code",
   "execution_count": 49,
   "id": "b446807e",
   "metadata": {},
   "outputs": [
    {
     "data": {
      "text/html": [
       "<div>\n",
       "<style scoped>\n",
       "    .dataframe tbody tr th:only-of-type {\n",
       "        vertical-align: middle;\n",
       "    }\n",
       "\n",
       "    .dataframe tbody tr th {\n",
       "        vertical-align: top;\n",
       "    }\n",
       "\n",
       "    .dataframe thead th {\n",
       "        text-align: right;\n",
       "    }\n",
       "</style>\n",
       "<table border=\"1\" class=\"dataframe\">\n",
       "  <thead>\n",
       "    <tr style=\"text-align: right;\">\n",
       "      <th></th>\n",
       "      <th>location_id</th>\n",
       "      <th>year_id</th>\n",
       "      <th>age_group_id</th>\n",
       "      <th>sex_id</th>\n",
       "      <th>population</th>\n",
       "    </tr>\n",
       "  </thead>\n",
       "  <tbody>\n",
       "  </tbody>\n",
       "</table>\n",
       "</div>"
      ],
      "text/plain": [
       "Empty DataFrame\n",
       "Columns: [location_id, year_id, age_group_id, sex_id, population]\n",
       "Index: []"
      ]
     },
     "execution_count": 49,
     "metadata": {},
     "output_type": "execute_result"
    }
   ],
   "source": [
    "df_1[(df_1[\"age_group_id\"] == 2) & (df_1[\"sex_id\"] == 1) & (df_1[\"year_id\"] == 2022)]"
   ]
  },
  {
   "cell_type": "code",
   "execution_count": 43,
   "id": "fc5ee5a6",
   "metadata": {},
   "outputs": [
    {
     "ename": "NameError",
     "evalue": "name 'sex_ids' is not defined",
     "output_type": "error",
     "traceback": [
      "\u001b[31m---------------------------------------------------------------------------\u001b[39m",
      "\u001b[31mNameError\u001b[39m                                 Traceback (most recent call last)",
      "\u001b[36mCell\u001b[39m\u001b[36m \u001b[39m\u001b[32mIn[43]\u001b[39m\u001b[32m, line 5\u001b[39m\n\u001b[32m      1\u001b[39m future_fhs_population_path = \u001b[33m\"\u001b[39m\u001b[33m/mnt/share/forecasting/data/33/future/population/20250319_updated_rerun_pop_shifted_etl_417/population.nc\u001b[39m\u001b[33m\"\u001b[39m\n\u001b[32m      2\u001b[39m \u001b[38;5;66;03m# Select only location_id 4756 and age_group_id 235\u001b[39;00m\n\u001b[32m      3\u001b[39m as_future_fhs_population = xr.open_dataset(future_fhs_population_path).sel(\n\u001b[32m      4\u001b[39m     age_group_id=age_metadata_df[\u001b[33m\"\u001b[39m\u001b[33mage_group_id\u001b[39m\u001b[33m\"\u001b[39m].unique(),\n\u001b[32m----> \u001b[39m\u001b[32m5\u001b[39m     sex_id=\u001b[43msex_ids\u001b[49m\n\u001b[32m      6\u001b[39m ).population.mean(dim=\u001b[33m'\u001b[39m\u001b[33mdraw\u001b[39m\u001b[33m'\u001b[39m)\n\u001b[32m      7\u001b[39m as_future_fhs_population_df = as_future_fhs_population.to_dataframe().reset_index()\n\u001b[32m      8\u001b[39m \u001b[38;5;66;03m# drop the scenario\u001b[39;00m\n",
      "\u001b[31mNameError\u001b[39m: name 'sex_ids' is not defined"
     ]
    }
   ],
   "source": [
    "future_fhs_population_path = \"/mnt/share/forecasting/data/33/future/population/20250319_updated_rerun_pop_shifted_etl_417/population.nc\"\n",
    "# Select only location_id 4756 and age_group_id 235\n",
    "as_future_fhs_population = xr.open_dataset(future_fhs_population_path).sel(\n",
    "    age_group_id=age_metadata_df[\"age_group_id\"].unique(),\n",
    "    sex_id=sex_ids\n",
    ").population.mean(dim='draw')\n",
    "as_future_fhs_population_df = as_future_fhs_population.to_dataframe().reset_index()\n",
    "# drop the scenario\n",
    "as_future_fhs_population_df = as_future_fhs_population_df.drop(columns=[\"scenario\"])"
   ]
  },
  {
   "cell_type": "code",
   "execution_count": 37,
   "id": "e443c2ba",
   "metadata": {},
   "outputs": [],
   "source": [
    "# read in only new location_ids from\n",
    "fhs_2023_population_df_path = f\"{RAW_DATA_PATH}/gbd/fhs_2023_population.parquet\"\n",
    "# New location_ids = 60908; 95069; 94364\n",
    "fhs_2023_population_df = read_parquet_with_integer_ids(fhs_2023_population_df_path)\n",
    "fhs_2023_population_df = fhs_2023_population_df[\n",
    "    (fhs_2023_population_df[\"location_id\"].isin([60908, 95069, 94364])) &\n",
    "    (fhs_2023_population_df[\"sex_id\"].isin([1,2])) &\n",
    "    (fhs_2023_population_df[\"age_group_id\"].isin(age_group_ids))\n",
    "]\n"
   ]
  },
  {
   "cell_type": "code",
   "execution_count": 41,
   "id": "68397e61",
   "metadata": {},
   "outputs": [
    {
     "data": {
      "text/plain": [
       "22682428.721401677"
      ]
     },
     "execution_count": 41,
     "metadata": {},
     "output_type": "execute_result"
    }
   ],
   "source": [
    "fhs_2023_population_df[(fhs_2023_population_df[\"year_id\"] == 2022)][\"population\"].sum()"
   ]
  },
  {
   "cell_type": "code",
   "execution_count": 40,
   "id": "fdd70724",
   "metadata": {},
   "outputs": [
    {
     "data": {
      "text/plain": [
       "24217135.640529323"
      ]
     },
     "execution_count": 40,
     "metadata": {},
     "output_type": "execute_result"
    }
   ],
   "source": [
    "tmp_df = fhs_population_df[fhs_population_df[\"location_id\"] == 44858].copy()\n",
    "tmp_df[(tmp_df[\"year_id\"] == 2022)][\"population\"].sum()"
   ]
  },
  {
   "cell_type": "code",
   "execution_count": 42,
   "id": "9e1b8d60",
   "metadata": {},
   "outputs": [
    {
     "data": {
      "text/plain": [
       "1534706.9191276468"
      ]
     },
     "execution_count": 42,
     "metadata": {},
     "output_type": "execute_result"
    }
   ],
   "source": [
    "24217135.640529323 - 22682428.721401677"
   ]
  },
  {
   "cell_type": "code",
   "execution_count": 15,
   "id": "0b857aa6",
   "metadata": {},
   "outputs": [],
   "source": [
    "sum_df = fhs_2023_population_df.groupby([\"year_id\", \"age_group_id\", \"sex_id\"]).agg({\"population\": \"sum\"}).reset_index()"
   ]
  },
  {
   "cell_type": "code",
   "execution_count": 39,
   "id": "f6908317",
   "metadata": {},
   "outputs": [
    {
     "data": {
      "text/plain": [
       "1659951.392546147"
      ]
     },
     "execution_count": 39,
     "metadata": {},
     "output_type": "execute_result"
    }
   ],
   "source": [
    "24901036.30881269 - 23241084.916266542"
   ]
  },
  {
   "cell_type": "code",
   "execution_count": null,
   "id": "5ddb8d8f",
   "metadata": {},
   "outputs": [],
   "source": [
    "# Old location_id = 44858\n",
    "# New location_ids = 60908; 95069; 94364"
   ]
  },
  {
   "cell_type": "code",
   "execution_count": null,
   "id": "f67affaf",
   "metadata": {},
   "outputs": [
    {
     "data": {
      "text/html": [
       "<div>\n",
       "<style scoped>\n",
       "    .dataframe tbody tr th:only-of-type {\n",
       "        vertical-align: middle;\n",
       "    }\n",
       "\n",
       "    .dataframe tbody tr th {\n",
       "        vertical-align: top;\n",
       "    }\n",
       "\n",
       "    .dataframe thead th {\n",
       "        text-align: right;\n",
       "    }\n",
       "</style>\n",
       "<table border=\"1\" class=\"dataframe\">\n",
       "  <thead>\n",
       "    <tr style=\"text-align: right;\">\n",
       "      <th></th>\n",
       "      <th>age_group_id</th>\n",
       "      <th>location_id</th>\n",
       "      <th>year_id</th>\n",
       "      <th>sex_id</th>\n",
       "      <th>population</th>\n",
       "      <th>population_aa</th>\n",
       "      <th>pop_fraction_aa</th>\n",
       "    </tr>\n",
       "  </thead>\n",
       "  <tbody>\n",
       "    <tr>\n",
       "      <th>1474700</th>\n",
       "      <td>2</td>\n",
       "      <td>44858</td>\n",
       "      <td>2022</td>\n",
       "      <td>1</td>\n",
       "      <td>7792.544513</td>\n",
       "      <td>2.421714e+07</td>\n",
       "      <td>0.000322</td>\n",
       "    </tr>\n",
       "  </tbody>\n",
       "</table>\n",
       "</div>"
      ],
      "text/plain": [
       "         age_group_id  location_id  year_id  sex_id   population  \\\n",
       "1474700             2        44858     2022       1  7792.544513   \n",
       "\n",
       "         population_aa  pop_fraction_aa  \n",
       "1474700   2.421714e+07         0.000322  "
      ]
     },
     "execution_count": 24,
     "metadata": {},
     "output_type": "execute_result"
    }
   ],
   "source": [
    "future_fhs_population_path = \"/mnt/share/forecasting/data/9/future/population/20250219_draining_fix_old_pop_v5/mean.nc\""
   ]
  }
 ],
 "metadata": {
  "kernelspec": {
   "display_name": "forecast-mbp",
   "language": "python",
   "name": "python3"
  },
  "language_info": {
   "codemirror_mode": {
    "name": "ipython",
    "version": 3
   },
   "file_extension": ".py",
   "mimetype": "text/x-python",
   "name": "python",
   "nbconvert_exporter": "python",
   "pygments_lexer": "ipython3",
   "version": "3.12.9"
  }
 },
 "nbformat": 4,
 "nbformat_minor": 5
}
