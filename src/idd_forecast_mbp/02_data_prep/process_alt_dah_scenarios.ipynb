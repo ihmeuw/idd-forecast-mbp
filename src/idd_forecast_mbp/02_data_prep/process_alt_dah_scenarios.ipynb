{
 "cells": [
  {
   "cell_type": "code",
   "execution_count": 56,
   "id": "531df9ed",
   "metadata": {},
   "outputs": [],
   "source": [
    "import xarray as xr # type: ignore\n",
    "from pathlib import Path\n",
    "import numpy as np # type: ignore\n",
    "from typing import cast\n",
    "import numpy.typing as npt # type: ignore\n",
    "import pandas as pd # type: ignore\n",
    "from typing import Literal, NamedTuple\n",
    "import itertools\n",
    "from rra_tools.shell_tools import mkdir # type: ignore\n",
    "from idd_forecast_mbp import constants as rfc\n",
    "from idd_forecast_mbp.helper_functions import merge_dataframes, read_income_paths, read_urban_paths, level_filter\n",
    "from idd_forecast_mbp.parquet_functions import read_parquet_with_integer_ids, write_parquet"
   ]
  },
  {
   "cell_type": "code",
   "execution_count": 57,
   "id": "23507bb2",
   "metadata": {},
   "outputs": [],
   "source": [
    "PROCESSED_DATA_PATH = rfc.MODEL_ROOT / \"02-processed_data\"\n",
    "\n",
    "# Hierarchy path\n",
    "hierarchy_df_path = f'{PROCESSED_DATA_PATH}/full_hierarchy_lsae_1209.parquet'\n",
    "hierarchy_df = read_parquet_with_integer_ids(hierarchy_df_path)\n",
    "\n",
    "# All-age population\n",
    "aa_full_population_df_path = f\"{PROCESSED_DATA_PATH}/aa_2023_full_population.parquet\"\n",
    "\n",
    "reference_path = \"/mnt/share/resource_tracking/forecasting/dah_channel_HFA/FGH_2024_submission_5_reference/dah_by_channel_hfa_recip_1990_2100.csv\"\n",
    "better_path = \"/mnt/share/resource_tracking/forecasting/dah_channel_HFA/FGH_2024_submission_5_better/dah_by_channel_hfa_recip_1990_2100.csv\"\n",
    "worse_path = \"/mnt/share/resource_tracking/forecasting/dah_channel_HFA/FGH_2024_submission_5_worse/dah_by_channel_hfa_recip_1990_2100.csv\"\n",
    "\n",
    "dah_refernce_df_path = f\"{PROCESSED_DATA_PATH}/dah_reference_df.parquet\"\n",
    "dah_better_df_path = f\"{PROCESSED_DATA_PATH}/dah_better_df.parquet\"\n",
    "dah_worse_df_path = f\"{PROCESSED_DATA_PATH}/dah_worse_df.parquet\"\n",
    "\n",
    "ref_df = pd.read_csv(reference_path, index_col=0)\n",
    "# subset to hfa = mal, rename dah to mal_DAH_total and year to year_id\n",
    "ref_df = ref_df[(ref_df['hfa'] == 'mal') & (ref_df['year'] >= 2000)].rename({'dah': 'mal_DAH_total', 'year': 'year_id'}, axis=1).copy()\n",
    "ref_df = ref_df[['year_id', 'mal_DAH_total', 'location_id']].groupby(['year_id', 'location_id']).agg({'mal_DAH_total': 'sum'}).reset_index()\n",
    "better_df = pd.read_csv(better_path, index_col=0)\n",
    "better_df = better_df[(better_df['hfa'] == 'mal') & (better_df['year'] >= 2000)].rename({'dah': 'mal_DAH_total', 'year': 'year_id'}, axis=1).copy()\n",
    "better_df = better_df[['year_id', 'mal_DAH_total', 'location_id']].groupby(['year_id', 'location_id']).agg({'mal_DAH_total': 'sum'}).reset_index()\n",
    "worse_df = pd.read_csv(worse_path, index_col=0)\n",
    "worse_df = worse_df[(worse_df['hfa'] == 'mal') & (worse_df['year'] >= 2000)].rename({'dah': 'mal_DAH_total', 'year': 'year_id'}, axis=1).copy()\n",
    "worse_df = worse_df[['year_id', 'mal_DAH_total', 'location_id']].groupby(['year_id', 'location_id']).agg({'mal_DAH_total': 'sum'}).reset_index()"
   ]
  },
  {
   "cell_type": "code",
   "execution_count": 58,
   "id": "5a09c3cf",
   "metadata": {},
   "outputs": [],
   "source": [
    "#\n",
    "a0_location_ids = hierarchy_df[hierarchy_df['level'] == 3]['location_id'].unique()\n",
    "a0_filter = ('location_id', 'in', a0_location_ids)\n",
    "a0_pop_df = read_parquet_with_integer_ids(aa_full_population_df_path,\n",
    "                                             filters=[a0_filter])\n",
    "#\n",
    "a2_location_ids = hierarchy_df[hierarchy_df['level'] == 5]['location_id'].unique()\n",
    "a2_filter = ('location_id', 'in', a2_location_ids)\n",
    "#\n",
    "a2_pop_df = read_parquet_with_integer_ids(aa_full_population_df_path,\n",
    "                                             filters=[a2_filter])"
   ]
  },
  {
   "cell_type": "code",
   "execution_count": 59,
   "id": "f78e9f6b",
   "metadata": {},
   "outputs": [],
   "source": [
    "ref_df = ref_df.merge(a0_pop_df, on=['location_id', 'year_id'], how='left')\n",
    "ref_df = ref_df.rename({'location_id': 'A0_location_id'}, axis=1)\n",
    "ref_df['mal_DAH_total_per_capita'] = ref_df['mal_DAH_total'] / ref_df['population']\n",
    "ref_df = ref_df.drop(columns=['population'])\n",
    "better_df = better_df.merge(a0_pop_df, on=['location_id', 'year_id'], how='left')\n",
    "better_df = better_df.rename({'location_id': 'A0_location_id'}, axis=1)\n",
    "better_df['mal_DAH_total_per_capita'] = better_df['mal_DAH_total'] / better_df['population']\n",
    "better_df = better_df.drop(columns=['population'])\n",
    "worse_df = worse_df.merge(a0_pop_df, on=['location_id', 'year_id'], how='left')\n",
    "worse_df['mal_DAH_total_per_capita'] = worse_df['mal_DAH_total'] / worse_df['population']\n",
    "worse_df = worse_df.rename({'location_id': 'A0_location_id'}, axis=1)\n",
    "worse_df = worse_df.drop(columns=['population'])"
   ]
  },
  {
   "cell_type": "code",
   "execution_count": 60,
   "id": "a9a2c0a8",
   "metadata": {},
   "outputs": [],
   "source": [
    "dah_reference_df = a2_pop_df.merge(hierarchy_df[['location_id', 'A0_location_id']], on='location_id', how='left').copy()\n",
    "dah_reference_df = dah_reference_df.merge(ref_df, on=['A0_location_id', 'year_id'], how='left')\n",
    "\n",
    "dah_better_df = a2_pop_df.merge(hierarchy_df[['location_id', 'A0_location_id']], on='location_id', how='left').copy()\n",
    "dah_better_df = dah_better_df.merge(better_df, on=['A0_location_id', 'year_id'], how='left')\n",
    "\n",
    "dah_worse_df = a2_pop_df.merge(hierarchy_df[['location_id', 'A0_location_id']], on='location_id', how='left').copy()\n",
    "dah_worse_df = dah_worse_df.merge(worse_df, on=['A0_location_id', 'year_id'], how='left')"
   ]
  },
  {
   "cell_type": "code",
   "execution_count": 61,
   "id": "0542106f",
   "metadata": {},
   "outputs": [
    {
     "name": "stdout",
     "output_type": "stream",
     "text": [
      "✅ Metadata validation passed for /mnt/team/idd/pub/forecast-mbp/02-processed_data/dah_reference_df.parquet\n",
      "✅ Metadata validation passed for /mnt/team/idd/pub/forecast-mbp/02-processed_data/dah_better_df.parquet\n",
      "✅ Metadata validation passed for /mnt/team/idd/pub/forecast-mbp/02-processed_data/dah_worse_df.parquet\n"
     ]
    },
    {
     "data": {
      "text/plain": [
       "True"
      ]
     },
     "execution_count": 61,
     "metadata": {},
     "output_type": "execute_result"
    }
   ],
   "source": [
    "write_parquet(dah_reference_df, dah_refernce_df_path)\n",
    "write_parquet(dah_better_df, dah_better_df_path)\n",
    "write_parquet(dah_worse_df, dah_worse_df_path)"
   ]
  },
  {
   "cell_type": "code",
   "execution_count": null,
   "id": "e89f4a9e",
   "metadata": {},
   "outputs": [],
   "source": []
  }
 ],
 "metadata": {
  "kernelspec": {
   "display_name": "forecast-mbp",
   "language": "python",
   "name": "python3"
  },
  "language_info": {
   "codemirror_mode": {
    "name": "ipython",
    "version": 3
   },
   "file_extension": ".py",
   "mimetype": "text/x-python",
   "name": "python",
   "nbconvert_exporter": "python",
   "pygments_lexer": "ipython3",
   "version": "3.12.9"
  }
 },
 "nbformat": 4,
 "nbformat_minor": 5
}
