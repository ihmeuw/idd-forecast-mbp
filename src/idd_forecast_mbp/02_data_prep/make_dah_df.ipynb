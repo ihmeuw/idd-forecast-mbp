{
 "cells": [
  {
   "cell_type": "code",
   "execution_count": 1,
   "id": "1e6d9ab8",
   "metadata": {},
   "outputs": [],
   "source": [
    "import numpy as np # type: ignore\n",
    "import pandas as pd # type: ignore\n",
    "from idd_forecast_mbp import constants as rfc\n",
    "from idd_forecast_mbp.helper_functions import merge_dataframes, read_income_paths, read_urban_paths, level_filter\n",
    "from idd_forecast_mbp.parquet_functions import read_parquet_with_integer_ids, write_parquet\n",
    "\n",
    "FORECASTING_DATA_PATH = rfc.MODEL_ROOT / \"04-forecasting_data\"\n",
    "PROCESSED_DATA_PATH = rfc.MODEL_ROOT / \"02-processed_data\"\n",
    "aa_full_population_df_path = f\"{PROCESSED_DATA_PATH}/aa_2023_full_population_df.parquet\"\n",
    "\n",
    "hierarchy_df_path = f'{PROCESSED_DATA_PATH}/full_hierarchy_lsae_1209.parquet'\n",
    "hierarchy_df = read_parquet_with_integer_ids(hierarchy_df_path)\n",
    "\n",
    "dah_df_path = f\"{PROCESSED_DATA_PATH}/dah_df_2025_07_08.parquet\""
   ]
  },
  {
   "cell_type": "code",
   "execution_count": 2,
   "id": "0a2fd7ad",
   "metadata": {},
   "outputs": [],
   "source": [
    "new_dah_path = '/mnt/share/resource_tracking/forecasting/dah_channel_HFA/FGH_2024_submission_5_reference/dah_by_channel_hfa_recip_1990_2100.csv'\n",
    "new_dah_df = pd.read_csv(new_dah_path)\n",
    "new_dah_df = new_dah_df[(new_dah_df['hfa'] == 'mal') & (new_dah_df['year'] >= 2000)]\n",
    "new_dah_df = new_dah_df.groupby(['year', 'recip']).agg({'dah': 'sum'}).reset_index()\n",
    "new_dah_df = new_dah_df.rename(columns={'recip': 'iso3', 'dah': 'mal_DAH_total', 'year': 'year_id'})\n",
    "\n",
    "A0_hierarchy_df = hierarchy_df[hierarchy_df['level'] == 3].copy()\n",
    "A0_hierarchy_df = A0_hierarchy_df[['location_id', 'location_name', 'ihme_loc_id']].drop_duplicates().reset_index(drop=True)\n",
    "A0_hierarchy_df = A0_hierarchy_df.rename(columns={'ihme_loc_id': 'iso3'})\n",
    "\n",
    "new_dah_df = new_dah_df.merge(A0_hierarchy_df, on='iso3', how='inner')\n",
    "A0_location_filter = ('location_id', 'in', A0_hierarchy_df['location_id'].unique().tolist())\n",
    "pop_df = read_parquet_with_integer_ids(aa_full_population_df_path, filters=[A0_location_filter])\n",
    "new_dah_df = new_dah_df.merge(pop_df, on=['location_id', 'year_id'], how='left')\n",
    "\n",
    "new_dah_df['mal_DAH_total_per_capita'] = new_dah_df['mal_DAH_total'] / new_dah_df['population']"
   ]
  },
  {
   "cell_type": "code",
   "execution_count": 3,
   "id": "97c723d4",
   "metadata": {},
   "outputs": [
    {
     "name": "stdout",
     "output_type": "stream",
     "text": [
      "✅ Metadata validation passed for /mnt/team/idd/pub/forecast-mbp/02-processed_data/dah_df_2025_07_08.parquet\n"
     ]
    },
    {
     "data": {
      "text/plain": [
       "True"
      ]
     },
     "execution_count": 3,
     "metadata": {},
     "output_type": "execute_result"
    }
   ],
   "source": [
    "write_parquet(new_dah_df,dah_df_path)"
   ]
  }
 ],
 "metadata": {
  "kernelspec": {
   "display_name": "forecast-mbp",
   "language": "python",
   "name": "python3"
  },
  "language_info": {
   "codemirror_mode": {
    "name": "ipython",
    "version": 3
   },
   "file_extension": ".py",
   "mimetype": "text/x-python",
   "name": "python",
   "nbconvert_exporter": "python",
   "pygments_lexer": "ipython3",
   "version": "3.12.9"
  }
 },
 "nbformat": 4,
 "nbformat_minor": 5
}
