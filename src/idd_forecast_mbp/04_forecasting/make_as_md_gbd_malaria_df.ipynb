{
 "cells": [
  {
   "cell_type": "code",
   "execution_count": 1,
   "id": "4e314250",
   "metadata": {},
   "outputs": [],
   "source": [
    "\n",
    "import pandas as pd\n",
    "import numpy as np\n",
    "import os\n",
    "import sys\n",
    "import itertools\n",
    "from idd_forecast_mbp import constants as rfc\n",
    "from idd_forecast_mbp.parquet_functions import read_parquet_with_integer_ids, write_parquet\n",
    "import glob\n",
    "cause_map = rfc.cause_map\n",
    "cause = \"malaria\"\n",
    "reference_age_group_id = cause_map[cause]['reference_age_group_id']\n",
    "reference_sex_id = cause_map[cause]['reference_sex_id']\n",
    "PROCESSED_DATA_PATH = rfc.PROCESSED_DATA_PATH\n",
    "as_full_cause_df_path = f'{PROCESSED_DATA_PATH}/as_full_{cause}_df.parquet'\n",
    "full_2023_hierarchy_path = f\"{PROCESSED_DATA_PATH}/full_hierarchy_2023_lsae_1209.parquet\"\n",
    "hierarchy_df = read_parquet_with_integer_ids(full_2023_hierarchy_path)\n",
    "forecast_years = list(range(2022, 2101))\n",
    "md_gbd_location_df = hierarchy_df[hierarchy_df['most_detailed_gbd'] == True].copy()\n",
    "last_year = min(forecast_years)\n",
    "md_gbd_location_filter = ('location_id', 'in', md_gbd_location_df['location_id'].unique().tolist())\n",
    "last_year_filter = ('year_id', '==', last_year)\n",
    "as_md_gbd_malaria_df = read_parquet_with_integer_ids(as_full_cause_df_path,\n",
    "                                                   filters = [md_gbd_location_filter, last_year_filter])\n",
    "base_md_gbd_malaria_df = as_md_gbd_malaria_df[(as_md_gbd_malaria_df['age_group_id'] == reference_age_group_id) &\n",
    "                                              (as_md_gbd_malaria_df['sex_id'] == reference_sex_id)].copy()\n",
    "base_md_gbd_malaria_df = base_md_gbd_malaria_df.rename(columns={\n",
    "    'malaria_inc_rate': 'base_malaria_inc_rate',\n",
    "    'malaria_mort_rate': 'base_malaria_mort_rate'}).reset_index(drop=True)\n",
    "\n",
    "as_md_gbd_malaria_df = as_md_gbd_malaria_df.merge(base_md_gbd_malaria_df[['location_id', 'year_id', 'base_malaria_inc_rate', 'base_malaria_mort_rate']],\n",
    "                                                   on=['location_id', 'year_id'], how='left')\n",
    "as_md_gbd_malaria_df['rr_inc_as'] = as_md_gbd_malaria_df['malaria_inc_rate'] / as_md_gbd_malaria_df['base_malaria_inc_rate']\n",
    "as_md_gbd_malaria_df['rr_mort_as'] = as_md_gbd_malaria_df['malaria_mort_rate'] / as_md_gbd_malaria_df['base_malaria_mort_rate']\n",
    "\n"
   ]
  },
  {
   "cell_type": "code",
   "execution_count": 2,
   "id": "e36e20e6",
   "metadata": {},
   "outputs": [],
   "source": [
    "as_md_gbd_malaria_df_path = f\"{PROCESSED_DATA_PATH}/as_md_gbd_malaria_df.parquet\""
   ]
  },
  {
   "cell_type": "code",
   "execution_count": 3,
   "id": "8a36da8e",
   "metadata": {},
   "outputs": [
    {
     "name": "stdout",
     "output_type": "stream",
     "text": [
      "✅ Metadata validation passed for /mnt/team/idd/pub/forecast-mbp/02-processed_data/as_md_gbd_malaria_df.parquet\n"
     ]
    },
    {
     "data": {
      "text/plain": [
       "True"
      ]
     },
     "execution_count": 3,
     "metadata": {},
     "output_type": "execute_result"
    }
   ],
   "source": [
    "write_parquet(as_md_gbd_malaria_df, as_md_gbd_malaria_df_path)"
   ]
  },
  {
   "cell_type": "code",
   "execution_count": null,
   "id": "67719ab4",
   "metadata": {},
   "outputs": [],
   "source": []
  }
 ],
 "metadata": {
  "kernelspec": {
   "display_name": "forecast-mbp",
   "language": "python",
   "name": "python3"
  },
  "language_info": {
   "codemirror_mode": {
    "name": "ipython",
    "version": 3
   },
   "file_extension": ".py",
   "mimetype": "text/x-python",
   "name": "python",
   "nbconvert_exporter": "python",
   "pygments_lexer": "ipython3",
   "version": "3.12.9"
  }
 },
 "nbformat": 4,
 "nbformat_minor": 5
}
