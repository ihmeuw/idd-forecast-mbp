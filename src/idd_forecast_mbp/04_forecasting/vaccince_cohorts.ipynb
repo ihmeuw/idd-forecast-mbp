{
 "cells": [
  {
   "cell_type": "code",
   "execution_count": 1,
   "id": "68bdfd6f",
   "metadata": {},
   "outputs": [],
   "source": [
    "import pandas as pd\n",
    "import numpy as np\n",
    "import os\n",
    "from idd_forecast_mbp import constants as rfc\n",
    "from idd_forecast_mbp.helper_functions import read_parquet_with_integer_ids, write_parquet\n",
    "\n",
    "\n",
    "PROCESSED_DATA_PATH = rfc.MODEL_ROOT / \"02-processed_data\"\n",
    "FORECASTING_DATA_PATH = rfc.FORECASTING_DATA_PATH\n",
    "\n",
    "FHS_DATA_PATH = f\"{PROCESSED_DATA_PATH}/age_specific_fhs\"\n",
    "\n",
    "age_metadata_path = f\"{FHS_DATA_PATH}/age_metadata.parquet\"\n",
    "age_metadata_df = read_parquet_with_integer_ids(age_metadata_path)\n",
    "\n",
    "\n",
    "\n",
    "dengue_vaccine_df_path = f\"{FORECASTING_DATA_PATH}/dengue_vaccine_df.parquet\"\n",
    "\n",
    "by_age_df_template = pd.DataFrame({\n",
    "    'age': list(range(10, 90)),\n",
    "    **{f'year_{year}': [0.0] * 80 for year in range(2023, 2101)}\n",
    "})\n",
    "\n",
    "sum_age_groups = age_metadata_df[(age_metadata_df['age_group_years_start'] >= 10) & (age_metadata_df['age_group_years_start'] < 90)]\n",
    "by_age_group_df_template = pd.DataFrame({\n",
    "    'age_group_id': list(sum_age_groups['age_group_id']),\n",
    "    'age_group_name': list(sum_age_groups['age_group_name']),\n",
    "    'age_group_years_start': list(sum_age_groups['age_group_years_start']),\n",
    "    'age_group_years_end': list(sum_age_groups['age_group_years_end']),\n",
    "    **{f'year_{year}': [0.0] * len(sum_age_groups['age_group_id']) for year in range(2023, 2101)}\n",
    "})\n",
    "\n",
    "def calculate_expanding_cohort_fraction(efficacy = 0.844, coverage = 0.7, year_start = 2028, initial_min_age=10, initial_max_age=15, \n",
    "    by_age_df_template=by_age_df_template, by_age_group_df_template = by_age_group_df_template):\n",
    "    #\n",
    "    yearly_coverage = 1 - (1 - coverage)**(1 / (initial_max_age - initial_min_age))\n",
    "    vac_by_age_df = by_age_df_template.copy()\n",
    "    unvac_by_age_df = by_age_df_template.copy()\n",
    "    # Set all values to 1 in unvac_by_age_df (except the age column)\n",
    "    unvac_by_age_df.iloc[:, 1:] = 1.0\n",
    "    coverage_by_age_group_df = by_age_group_df_template.copy()\n",
    "    reduction_by_age_group_df = by_age_group_df_template.copy()\n",
    "    first_year = f'year_{year_start}'\n",
    "    # Set the values in the first_year column for age between initial_min_age and initial_max_age to coverage\n",
    "    for year in range(year_start, 2101):\n",
    "        # Grab the previous year column and shift the values down by 1 year\n",
    "        previous_year = f'year_{year - 1}'\n",
    "        current_year = f'year_{year}'\n",
    "        unvac_by_age_df[current_year] = unvac_by_age_df[previous_year].shift(1)\n",
    "        unvac_by_age_df.loc[unvac_by_age_df['age'] == initial_min_age, current_year] = 1.0\n",
    "        # Vaccinate the initial_min_age group\n",
    "        unvac_by_age_df.loc[(unvac_by_age_df['age'] >= initial_min_age) & \n",
    "                            (unvac_by_age_df['age'] < initial_max_age), current_year] = unvac_by_age_df.loc[(unvac_by_age_df['age'] >= initial_min_age) & \n",
    "                                                                                                            (unvac_by_age_df['age'] < initial_max_age), current_year] * (1 - yearly_coverage)\n",
    "\n",
    "    vac_by_age_df = 1 - unvac_by_age_df\n",
    "    vac_by_age_df['age'] = unvac_by_age_df['age'].astype(int)\n",
    "    # For each year, calculate the fraction of the population that is vaccinated by age group and insert that average into coverage_by_age_group_df\n",
    "    for year in range(year_start, 2101):\n",
    "        for age_group_id in coverage_by_age_group_df['age_group_id']:\n",
    "            # Get the age group start and end years\n",
    "            age_group_start = age_metadata_df[age_metadata_df['age_group_id'] == age_group_id]['age_group_years_start'].values[0]\n",
    "            age_group_end = age_metadata_df[age_metadata_df['age_group_id'] == age_group_id]['age_group_years_end'].values[0]\n",
    "            # Get the ages in the age group\n",
    "            ages_in_age_group = vac_by_age_df[(vac_by_age_df['age'] >= age_group_start) & (vac_by_age_df['age'] < age_group_end)]\n",
    "            # Calculate the average vaccination coverage for the age group\n",
    "            average_coverage = ages_in_age_group[f'year_{year}'].mean()\n",
    "            # Set the value in the by_age_group_df_template for that year and age group\n",
    "            coverage_by_age_group_df.loc[coverage_by_age_group_df['age_group_id'] == age_group_id, f'year_{year}'] = average_coverage\n",
    "    \n",
    "    year_cols = [col for col in coverage_by_age_group_df.columns if col.startswith('year_')]\n",
    "    for col in year_cols:  # Fixed: added the loop\n",
    "        reduction_by_age_group_df[col] = 1 - coverage_by_age_group_df[col] * efficacy\n",
    "\n",
    "    return unvac_by_age_df, vac_by_age_df, coverage_by_age_group_df, reduction_by_age_group_df\n",
    "\n",
    "unvac_df, df, ag_df, red_df = calculate_expanding_cohort_fraction()\n",
    "\n"
   ]
  },
  {
   "cell_type": "code",
   "execution_count": 2,
   "id": "b42c789b",
   "metadata": {},
   "outputs": [
    {
     "name": "stdout",
     "output_type": "stream",
     "text": [
      "✅ Metadata validation passed for /mnt/team/idd/pub/forecast-mbp/04-forecasting_data/dengue_vaccine_df.parquet\n"
     ]
    },
    {
     "data": {
      "text/plain": [
       "True"
      ]
     },
     "execution_count": 2,
     "metadata": {},
     "output_type": "execute_result"
    }
   ],
   "source": [
    "write_parquet(red_df, dengue_vaccine_df_path)"
   ]
  },
  {
   "cell_type": "code",
   "execution_count": null,
   "id": "647d1ad7",
   "metadata": {},
   "outputs": [],
   "source": []
  }
 ],
 "metadata": {
  "kernelspec": {
   "display_name": "forecast-mbp",
   "language": "python",
   "name": "python3"
  },
  "language_info": {
   "codemirror_mode": {
    "name": "ipython",
    "version": 3
   },
   "file_extension": ".py",
   "mimetype": "text/x-python",
   "name": "python",
   "nbconvert_exporter": "python",
   "pygments_lexer": "ipython3",
   "version": "3.12.9"
  }
 },
 "nbformat": 4,
 "nbformat_minor": 5
}
