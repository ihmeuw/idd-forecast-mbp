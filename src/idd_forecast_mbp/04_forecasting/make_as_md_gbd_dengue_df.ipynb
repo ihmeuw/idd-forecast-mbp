{
 "cells": [
  {
   "cell_type": "code",
   "execution_count": 17,
   "id": "41d3ed3e",
   "metadata": {},
   "outputs": [],
   "source": [
    "import pandas as pd\n",
    "import numpy as np\n",
    "import os\n",
    "import sys\n",
    "import itertools\n",
    "from idd_forecast_mbp import constants as rfc\n",
    "from idd_forecast_mbp.parquet_functions import read_parquet_with_integer_ids, write_parquet\n",
    "import glob\n",
    "cause_map = rfc.cause_map\n",
    "cause = \"dengue\"\n",
    "reference_age_group_id = cause_map[cause]['reference_age_group_id']\n",
    "reference_sex_id = cause_map[cause]['reference_sex_id']\n",
    "PROCESSED_DATA_PATH = rfc.PROCESSED_DATA_PATH\n",
    "as_full_cause_df_path = f'{PROCESSED_DATA_PATH}/as_full_{cause}_df.parquet'\n",
    "full_2023_hierarchy_path = f\"{PROCESSED_DATA_PATH}/full_hierarchy_2023_lsae_1209.parquet\"\n",
    "hierarchy_df = read_parquet_with_integer_ids(full_2023_hierarchy_path)"
   ]
  },
  {
   "cell_type": "code",
   "execution_count": 18,
   "id": "8095db03",
   "metadata": {},
   "outputs": [
    {
     "name": "stdout",
     "output_type": "stream",
     "text": [
      "✅ Metadata validation passed for /mnt/team/idd/pub/forecast-mbp/02-processed_data/as_md_gbd_dengue_df.parquet\n"
     ]
    },
    {
     "data": {
      "text/plain": [
       "True"
      ]
     },
     "execution_count": 18,
     "metadata": {},
     "output_type": "execute_result"
    }
   ],
   "source": [
    "\n",
    "forecast_years = list(range(2022, 2101))\n",
    "md_gbd_location_df = hierarchy_df[hierarchy_df['most_detailed_gbd'] == True].copy()\n",
    "last_year = min(forecast_years)\n",
    "md_gbd_location_filter = ('location_id', 'in', md_gbd_location_df['location_id'].unique().tolist())\n",
    "last_year_filter = ('year_id', '==', last_year)\n",
    "as_md_gbd_dengue_df = read_parquet_with_integer_ids(as_full_cause_df_path,\n",
    "                                                   filters = [md_gbd_location_filter, last_year_filter])\n",
    "base_md_gbd_dengue_df = as_md_gbd_dengue_df[(as_md_gbd_dengue_df['age_group_id'] == reference_age_group_id) &\n",
    "                                              (as_md_gbd_dengue_df['sex_id'] == reference_sex_id)].copy()\n",
    "base_md_gbd_dengue_df = base_md_gbd_dengue_df.rename(columns={\n",
    "    'dengue_inc_rate': 'base_dengue_inc_rate'}).reset_index(drop=True)\n",
    "\n",
    "as_md_gbd_dengue_df = as_md_gbd_dengue_df.merge(base_md_gbd_dengue_df[['location_id', 'year_id', 'base_dengue_inc_rate']],\n",
    "                                                   on=['location_id', 'year_id'], how='left')\n",
    "as_md_gbd_dengue_df['rr_inc_as'] = as_md_gbd_dengue_df['dengue_inc_rate'] / as_md_gbd_dengue_df['base_dengue_inc_rate']\n",
    "# set rr_inc_as to 0 when dengue_inc_rate is 0\n",
    "as_md_gbd_dengue_df.loc[as_md_gbd_dengue_df['dengue_inc_rate'] == 0, 'rr_inc_as'] = 0\n",
    "\n",
    "as_md_gbd_dengue_df_path = f\"{PROCESSED_DATA_PATH}/as_md_gbd_dengue_df.parquet\"\n",
    "write_parquet(as_md_gbd_dengue_df, as_md_gbd_dengue_df_path)\n"
   ]
  },
  {
   "cell_type": "code",
   "execution_count": 16,
   "id": "f23ca30c",
   "metadata": {},
   "outputs": [
    {
     "name": "stdout",
     "output_type": "stream",
     "text": [
      "✅ Metadata validation passed for /mnt/team/idd/pub/forecast-mbp/02-processed_data/full_hierarchy_2023_lsae_1209.parquet\n"
     ]
    },
    {
     "data": {
      "text/plain": [
       "True"
      ]
     },
     "execution_count": 16,
     "metadata": {},
     "output_type": "execute_result"
    }
   ],
   "source": [
    "hierarchy_df = read_parquet_with_integer_ids(full_2023_hierarchy_path)\n",
    "hierarchy_df.loc[hierarchy_df[\"parent_id\"] == 163, 'most_detailed_gbd'] = 1\n",
    "write_parquet(hierarchy_df, full_2023_hierarchy_path)"
   ]
  }
 ],
 "metadata": {
  "kernelspec": {
   "display_name": "forecast-mbp",
   "language": "python",
   "name": "python3"
  },
  "language_info": {
   "codemirror_mode": {
    "name": "ipython",
    "version": 3
   },
   "file_extension": ".py",
   "mimetype": "text/x-python",
   "name": "python",
   "nbconvert_exporter": "python",
   "pygments_lexer": "ipython3",
   "version": "3.12.9"
  }
 },
 "nbformat": 4,
 "nbformat_minor": 5
}
