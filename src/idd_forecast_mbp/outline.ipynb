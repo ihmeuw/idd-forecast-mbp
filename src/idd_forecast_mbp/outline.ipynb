{
 "cells": [
  {
   "cell_type": "code",
   "execution_count": null,
   "id": "9ef1c56c",
   "metadata": {},
   "outputs": [],
   "source": [
    "# Data Prep\n",
    "## Set-up\n",
    "\n",
    "####"
   ]
  },
  {
   "cell_type": "markdown",
   "id": "04232563",
   "metadata": {},
   "source": [
    "### 01_make_full_hierarchy.py\n",
    "**Purpose:** Creates a comprehensive geographic hierarchy by combining FHS and LSAE structures.\n",
    "\n",
    "**Inputs/Output:**\n",
    "- FHS: `/mnt/team/rapidresponse/pub/population-model/admin-inputs/raking/gbd-inputs/hierarchy_fhs_2021.parquet`\n",
    "- LSAE: `/mnt/team/rapidresponse/pub/population-model/admin-inputs/raking/gbd-inputs/hierarchy_lsae_1209.parquet`\n",
    "- GBD: `/mnt/team/rapidresponse/pub/population-model/admin-inputs/raking/gbd-inputs/hierarchy_gbd_2021.parquet`\n",
    "\n",
    "- Output: `/mnt/team/idd/pub/forecast-mbp/02-processed_data/full_hierarchy_lsae_1209.parquet`\n",
    "- Output: `/mnt/team/idd/pub/forecast-mbp/02-processed_data/lsae_to_fhs_table.parquet`\n",
    "- Output: `/mnt/team/idd/pub/forecast-mbp/02-processed_data/lsae_to_gbd_table.parquet`\n",
    "\n",
    "**Process:** Loads both hierarchies → Cleans columns → Creates base from FHS → Integrates LSAE locations (preserving parent-child relationships, adjusting paths, setting levels 4-5, maintaining regions) → Handles sort order → Resolves duplicates (prioritizing `most_detailed_fhs=1`) → Links each location to the most deatiled FHS location above it (or it) → Links each location to the most deatiled GBD location above it (or it) → Saves output\n",
    "\n",
    "**Notes:** There are 640 locations in the lsae hierarchy that don't have ancestors in GBD until you get to global (e.g., Aruba and its childre). They are all dropped in this code.\n",
    "\n",
    "**Significance:** Creates foundational geographic structure used throughout the forecasting pipeline."
   ]
  },
  {
   "cell_type": "markdown",
   "id": "72c08358",
   "metadata": {},
   "source": [
    "### 02_rake_A2_to_GBD.py\n",
    "**Purpose:** Adjusts malaria and dengue estimates from climate model outputs to match official GBD totals while preserving spatial patterns.\n",
    "\n",
    "**Inputs/Output:**\n",
    "- LSAE Hierarchy: `/mnt/team/rapidresponse/pub/population-model/admin-inputs/raking/gbd-inputs/hierarchy_lsae_1209.parquet`\n",
    "- GBD Hierarchy: `/mnt/team/rapidresponse/pub/population-model/admin-inputs/raking/gbd-inputs/hierarchy_gbd_2023.parquet`\n",
    "- Malaria GBD: `01-raw_data/gbd/gbd_2023_malaria_aa.csv`\n",
    "- Dengue GBD: `01-raw_data/gbd/gbd_2023_dengue_aa.csv`\n",
    "- Population: `/mnt/team/rapidresponse/pub/climate-aggregates/2025_03_20/results/lsae_1209/population.parquet`\n",
    "- Output: `02-processed_data/raked_malaria_aa.parquet` and `02-processed_data/raked_dengue_aa.parquet`\n",
    "\n",
    "**Process:** Load hierarchies and population → Process malaria data → Calculate raking factors (GBD/local ratios) → Apply factors to local estimates → Repeat for dengue → Calculate rates → Save outputs\n",
    "\n",
    "**Significance:** Creates GBD-consistent disease estimates at high geographic resolution that maintain local patterns while aligning with official global totals."
   ]
  },
  {
   "cell_type": "markdown",
   "id": "339d2696",
   "metadata": {},
   "source": [
    "### 03_as_fhs_and_admin_2_population.py\n",
    "**Purpose:** Creates age-specific population datasets for LSAE geographic locations by applying age-sex distribution patterns from FHS locations to total population counts.\n",
    "\n",
    "**Inputs/Output:**\n",
    "- Hierarchy data: `/02-processed_data/full_hierarchy_lsae_1209.parquet`\n",
    "- Age metadata: `/02-processed_data/age_specific_fhs/age_metadata.parquet`\n",
    "- FHS hierarchy: `/02-processed_data/age_specific_fhs/fhs_hierarchy.parquet`\n",
    "- LSAE population: `/mnt/team/rapidresponse/pub/climate-aggregates/2025_03_20/results/lsae_1209/population.parquet`\n",
    "- Past FHS population: `/mnt/share/forecasting/data/9/past/population/20231002_etl_run_id_359/population.nc`\n",
    "- Future FHS population: `/mnt/share/forecasting/data/9/future/population/20250219_draining_fix_old_pop_v5/population.nc`\n",
    "- Output FHS fractions: `/02-processed_data/fhs_population.parquet`\n",
    "- Output LSAE population: `/03-modeling_data/as_lsae_population_df.parquet`\n",
    "\n",
    "**Process:** Set up environment and constants → Load geographical hierarchies → Process LSAE total population → Extract FHS population data from NetCDF files → Calculate age-specific population fractions → Generate all age-sex combinations → Apply FHS demographic patterns to LSAE locations → Save disaggregated population dataset\n",
    "\n",
    "**Significance:** Enables age-specific disease modeling by providing properly disaggregated demographic data across all geographic units, allowing for more precise forecasting that accounts for age-specific disease patterns."
   ]
  },
  {
   "cell_type": "markdown",
   "id": "3e399456",
   "metadata": {},
   "source": [
    "### 04_fhs_cause_quantities.py\n",
    "**Purpose:** Calculates age-specific disease risk patterns from FHS locations to enable age-structured disease modeling.\n",
    "\n",
    "**Inputs/Output:**\n",
    "- Hierarchy: `/02-processed_data/full_hierarchy_lsae_1209.parquet`\n",
    "- Age metadata: `/02-processed_data/age_specific_fhs/age_metadata.parquet`\n",
    "- Malaria data: `/03-modeling_data/malaria_stage_2_modeling_df.parquet`\n",
    "- FHS population: `/02-processed_data/fhs_population.parquet`\n",
    "- FHS disease data: `/02-processed_data/age_specific_fhs/{age_type}_cause_id_{cause_id}_measure_id_{measure_id}_metric_id_{metric_id}_fhs.parquet`\n",
    "- Output: `/03-modeling_data/fhs_{cause}_{measure}_{metric}_df.parquet`\n",
    "\n",
    "**Process:** Load hierarchies and reference data → Apply location and time filters → Process all-age and age-specific datasets → Calculate absolute risks → Identify reference age-sex groups → Compute relative risk patterns → Save disease-specific modeling datasets\n",
    "\n",
    "**Significance:** Creates standardized representations of how disease risk varies across age groups, enabling age-structured forecasting models to accurately distribute disease burden across demographic groups."
   ]
  },
  {
   "cell_type": "markdown",
   "id": "e34c5214",
   "metadata": {},
   "source": [
    "### 01_malaria_modeling_dataframe.py\n",
    "**Purpose:** Prepares comprehensive malaria modeling datasets by integrating disease metrics with climate, economic, and urbanization covariates.\n",
    "\n",
    "**Inputs/Output:**\n",
    "- Malaria Data: `/02-processed_data/raked_malaria_aa.parquet`\n",
    "- Hierarchy: `/02-processed_data/full_hierarchy_lsae_1209.parquet`\n",
    "- Climate Variables: `/mnt/team/rapidresponse/pub/climate-aggregates/2025_03_20/results/lsae_1209/...`\n",
    "- Economic Indicators: `/02-processed_data/lsae_1209/gdppc_mean.parquet`, `/02-processed_data/lsae_1209/ldipc_mean.parquet`\n",
    "- Development Assistance: `/02-processed_data/lsae_1209/dah_df.parquet`\n",
    "- Output Stage 1: `/03-modeling_data/malaria_stage_1_modeling_df.parquet`\n",
    "- Output Stage 2: `/03-modeling_data/malaria_stage_2_modeling_df.parquet`\n",
    "\n",
    "**Process:** Configure data paths → Load malaria data → Merge economic indicators → Integrate urban metrics → Add climate variables → Create Stage 1 dataset → Filter to high-burden areas (mortality > 100) → Select most detailed LSAE locations → Apply transformations (log, logit) → Save Stage 2 modeling dataset\n",
    "\n",
    "**Significance:** Creates the foundational datasets required for malaria burden modeling, incorporating all relevant predictors and applying appropriate statistical transformations for regression modeling."
   ]
  },
  {
   "cell_type": "markdown",
   "id": "c001a6f4",
   "metadata": {},
   "source": [
    "Prompt for next time\n",
    "\n",
    "\n",
    "Please create a compact markdown documentation for this Python script and present it inside a code block (```), so I can copy the raw markdown text with all formatting symbols visible. This allows me to paste it directly into my Jupyter notebook markdown cell. Follow this exact format:\n",
    "\n",
    "### script_name.py\n",
    "**Purpose:** One sentence summary of what the script does.\n",
    "\n",
    "**Inputs/Output:**\n",
    "- Input1: `/path/to/input1`\n",
    "- Input2: `/path/to/input2`\n",
    "- Output: `/path/to/output`\n",
    "\n",
    "**Process:** Step 1 → Step 2 → Step 3 → etc. (use arrows between steps and keep it as a single line)\n",
    "\n",
    "**Significance:** Brief statement on why this script is important to the pipeline.\n",
    "\n",
    "Please use the actual paths, steps, and details from the script, and ensure I can see all markdown symbols (###, **, -, etc.) in your response by placing everything inside a code block."
   ]
  },
  {
   "cell_type": "code",
   "execution_count": null,
   "id": "e299f15b",
   "metadata": {},
   "outputs": [],
   "source": [
    "malaria_stage_2_df[malaria_stage_2_df[\"location_id\"] == 46346][[\"location_id\", \"year_id\", \"malaria_pfpr\", \"malaria_mort_count\"]]"
   ]
  },
  {
   "cell_type": "markdown",
   "id": "c9f713f9",
   "metadata": {},
   "source": [
    "\n",
    "\n",
    "\n",
    "data_prep/malaria/04_forecasted_dataframes_non_draw_part.py\n",
    "\t- in\tLOTS OF THINGS\n",
    "\t- out\t\"{FORECASTING_DATA_PATH}/malaria_forecast_scenario_{ssp_scenario}_non_draw_part.parquet\")\n",
    "\n",
    "#### data_prep/malaria/04_forecasted_dataframes_parallel.py\n",
    "\t- in\t\"{FORECASTING_DATA_PATH}/malaria_forecast_scenario_{ssp_scenario}_non_draw_part.parquet\")\n",
    "\t- out\t\"{FORECASTING_DATA_PATH}/malaria_forecast_ssp_scenario_{ssp_scenario}_dah_scenario_{dah_scenario_name}_draw_{draw}.parquet\"\n",
    "\n",
    "#### forecasting/malaria/forecast_admin_2s_launcher.r\n",
    "\t- in \t\"{FORECASTING_DATA_PATH}/malaria_forecast_ssp_scenario_{ssp_scenario}_dah_scenario_{dah_scenario_name}_draw_{draw}.parquet\"\n",
    "\t- out\t\"{FORECASTING_DATA_PATH}/malaria_forecast_ssp_scenario_{ssp_scenario}_dah_scenario_{dah_scenario_name}_draw_{draw}_with_predictions.parquet\"\n",
    "\n",
    "\n",
    "#### forecasting/malaria/01_as_malaria_shifts_parallel.py\n",
    "\t- in: \t\"{FORECASTING_DATA_PATH}/malaria_forecast_ssp_scenario_{ssp_scenario}_dah_scenario_{dah_scenario_name}_draw_{draw}_with_predictions.parquet\"\n",
    "\t- out:\t\"{FORECASTING_DATA_PATH}/as_malaria_measure_{measure}_ssp_scenario_{ssp_scenario}_dah_scenario_{dah_scenario_name}_draw_{draw}_with_predictions.parquet\"\n",
    "\t\n",
    "#### aggregation/malaria/01_malaria_as_aggregation_by_draw_parallel.py\n",
    "\t- in: \t\"{FORECASTING_DATA_PATH}/as_malaria_measure_{measure}_ssp_scenario_{ssp_scenario}_dah_scenario_{dah_scenario}_draw_{draw}_with_predictions.parquet\"\n",
    "\t- out: \t\"{UPLOAD_DATA_PATH}/full_as_malaria_measure_{measure}_ssp_scenario_{ssp_scenario}_dah_scenario_{dah_scenario}_draw_{draw}_with_predictions.parquet\"\n",
    "\t\n",
    "upload/malaria/combine_as_draws.ipynb\n",
    "\t- in:\t\"{UPLOAD_DATA_PATH}/full_as_malaria_measure_{measure}_ssp_scenario_{ssp_scenario}_dah_scenario_{dah_scenario}_draw_{draw}_with_predictions.parquet\"\n",
    "\t- out: \t\"{UPLOAD_DATA_PATH}/fhs_upload_folders/cause_id_{cause_id}_measure_id_{measure_id}_sceanrio_{scenario}_{run_date}/draws.h5\"\n",
    "\t\n",
    "\t\n",
    "/mnt/team/fhs/pub/venv/fhs_save_results /mnt/team/idd/pub/forecast-mbp/05-upload_data/fhs_upload_folders/cause_id_345_measure_id_1_scenario_0_2025_06_09 --has-past-data False\n",
    "/mnt/team/fhs/pub/venv/fhs_save_results /mnt/team/idd/pub/forecast-mbp/05-upload_data/fhs_upload_folders/cause_id_345_measure_id_1_scenario_54_2025_06_09 --has-past-data False\n",
    "/mnt/team/fhs/pub/venv/fhs_save_results /mnt/team/idd/pub/forecast-mbp/05-upload_data/fhs_upload_folders/cause_id_345_measure_id_1_scenario_66_2025_06_09 --has-past-data False\n",
    "\n",
    "\t"
   ]
  },
  {
   "cell_type": "code",
   "execution_count": null,
   "id": "effb7abb",
   "metadata": {},
   "outputs": [],
   "source": []
  }
 ],
 "metadata": {
  "language_info": {
   "name": "python"
  }
 },
 "nbformat": 4,
 "nbformat_minor": 5
}
